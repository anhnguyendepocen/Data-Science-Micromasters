{
 "cells": [
  {
   "cell_type": "markdown",
   "metadata": {},
   "source": [
    "#### String Functions\n",
    "If you want to do something with Strings, check the document first: [link](https://docs.python.org/2/library/string.html)"
   ]
  },
  {
   "cell_type": "code",
   "execution_count": 2,
   "metadata": {},
   "outputs": [
    {
     "name": "stdout",
     "output_type": "stream",
     "text": [
      "hello\n",
      "HELLO\n"
     ]
    }
   ],
   "source": [
    "# change case\n",
    "word = 'Hello'\n",
    "print(word.lower())\n",
    "print(word.upper())"
   ]
  },
  {
   "cell_type": "code",
   "execution_count": 5,
   "metadata": {},
   "outputs": [
    {
     "name": "stdout",
     "output_type": "stream",
     "text": [
      "12\n",
      "Hi there!\n"
     ]
    }
   ],
   "source": [
    "# concatenation\n",
    "print('1' + '2')\n",
    "print('Hi' + ' there!')"
   ]
  },
  {
   "cell_type": "code",
   "execution_count": 7,
   "metadata": {},
   "outputs": [
    {
     "name": "stdout",
     "output_type": "stream",
     "text": [
      "1212\n",
      "11222\n"
     ]
    }
   ],
   "source": [
    "# replication\n",
    "print('12'*2)\n",
    "print('1'*2 + '2'*3)"
   ]
  },
  {
   "cell_type": "code",
   "execution_count": 9,
   "metadata": {},
   "outputs": [
    {
     "name": "stdout",
     "output_type": "stream",
     "text": [
      "         Extras \n",
      "\n",
      "Extras\n",
      "****10****\n",
      "10\n"
     ]
    }
   ],
   "source": [
    "# strip\n",
    "s = '         Extras \\n'\n",
    "print(s)\n",
    "print(s.strip())\n",
    "t = '****10****'\n",
    "print(t)\n",
    "print(t.strip('*'))"
   ]
  },
  {
   "cell_type": "code",
   "execution_count": 11,
   "metadata": {},
   "outputs": [
    {
     "name": "stdout",
     "output_type": "stream",
     "text": [
      "Let's split the words\n",
      "[\"Let's\", 'split', 'the', 'words']\n",
      "Jane Doe, Cars 5\n",
      "['Jane Doe', ' Cars 5']\n"
     ]
    }
   ],
   "source": [
    "# split\n",
    "s = 'Let\\'s split the words'\n",
    "print(s)\n",
    "print(s.split(' '))\n",
    "t = 'Jane Doe, Cars 5'\n",
    "print(t)\n",
    "print(t.split(','))"
   ]
  },
  {
   "cell_type": "code",
   "execution_count": 18,
   "metadata": {},
   "outputs": [
    {
     "name": "stdout",
     "output_type": "stream",
     "text": [
      "el\n",
      "o\n",
      "ell\n"
     ]
    }
   ],
   "source": [
    "# slicing\n",
    "word = 'Hello'\n",
    "print(word[1:3])\n",
    "print(word[4:7])\n",
    "print(word[-4:-1])"
   ]
  },
  {
   "cell_type": "markdown",
   "metadata": {},
   "source": [
    "<img style=\"float: left;\" src='Files/slicing_example.png' width = 200>"
   ]
  },
  {
   "cell_type": "code",
   "execution_count": 22,
   "metadata": {},
   "outputs": [
    {
     "name": "stdout",
     "output_type": "stream",
     "text": [
      "Hello\n",
      "False\n",
      "True\n",
      "1\n"
     ]
    }
   ],
   "source": [
    "# substring testing\n",
    "print(word)\n",
    "print('HE' in word)\n",
    "print('He' in word)\n",
    "print(word.find('el'))"
   ]
  },
  {
   "cell_type": "code",
   "execution_count": 25,
   "metadata": {},
   "outputs": [
    {
     "name": "stdout",
     "output_type": "stream",
     "text": [
      "1234\n",
      "1234.0\n"
     ]
    }
   ],
   "source": [
    "# convert to number\n",
    "st = '1234'\n",
    "print(int(st))\n",
    "print(float(st))"
   ]
  },
  {
   "cell_type": "code",
   "execution_count": null,
   "metadata": {
    "collapsed": true
   },
   "outputs": [],
   "source": [
    "# get's an error because 'Hello' isn't a number\n",
    "print(int(word))"
   ]
  },
  {
   "cell_type": "code",
   "execution_count": 27,
   "metadata": {},
   "outputs": [
    {
     "name": "stdout",
     "output_type": "stream",
     "text": [
      "We love data science.\n",
      "We love science data\n"
     ]
    }
   ],
   "source": [
    "# string formatting. {} is a placeholder used by format function\n",
    "statement = 'We love {} {}.'\n",
    "print(statement.format('data','science'))\n",
    "\n",
    "# we can specify the order of a placeholder\n",
    "statement1 = 'We love {1} {0}'\n",
    "print(statement1.format('data','science'))\n",
    "# it changed the order of the placeholders"
   ]
  },
  {
   "cell_type": "markdown",
   "metadata": {},
   "source": [
    "#### Lists\n",
    "A list is a data structure in Python that is a mutable, or changeable, ordered sequence of elements. Each element or value that is inside of a list is called an item. Just as strings are defined as characters between quotes, lists are defined by having values between square brackets `[ ]`."
   ]
  },
  {
   "cell_type": "code",
   "execution_count": 31,
   "metadata": {},
   "outputs": [
    {
     "data": {
      "text/plain": [
       "22"
      ]
     },
     "execution_count": 31,
     "metadata": {},
     "output_type": "execute_result"
    }
   ],
   "source": [
    "list = [11,22,33]\n",
    "list[1]\n",
    "\n",
    "#will get an error: Error - index out of range\n",
    "#list[3]"
   ]
  },
  {
   "cell_type": "markdown",
   "metadata": {},
   "source": [
    "<img style=\"float: left;\" src='Files/list_example.png' width = 100>"
   ]
  },
  {
   "cell_type": "code",
   "execution_count": 30,
   "metadata": {},
   "outputs": [
    {
     "name": "stdout",
     "output_type": "stream",
     "text": [
      "11\n",
      "22\n",
      "33\n"
     ]
    }
   ],
   "source": [
    "for i in list:\n",
    "    print(i)"
   ]
  },
  {
   "cell_type": "code",
   "execution_count": 32,
   "metadata": {},
   "outputs": [
    {
     "data": {
      "text/plain": [
       "[11, 95, 33]"
      ]
     },
     "execution_count": 32,
     "metadata": {},
     "output_type": "execute_result"
    }
   ],
   "source": [
    "list[1]=95\n",
    "list"
   ]
  },
  {
   "cell_type": "markdown",
   "metadata": {},
   "source": [
    "<img style=\"float: left;\" src='Files/list_example2.png' width = 100>"
   ]
  },
  {
   "cell_type": "code",
   "execution_count": 35,
   "metadata": {},
   "outputs": [
    {
     "name": "stdout",
     "output_type": "stream",
     "text": [
      "[11, 22, 33, 44]\n"
     ]
    }
   ],
   "source": [
    "# appending to a list\n",
    "list = [11,22,33]\n",
    "list.append(44)\n",
    "print(list)"
   ]
  },
  {
   "cell_type": "markdown",
   "metadata": {},
   "source": [
    "<img style=\"float: left;\" src='Files/append_list_example.png' width = 120>"
   ]
  },
  {
   "cell_type": "code",
   "execution_count": 41,
   "metadata": {},
   "outputs": [
    {
     "name": "stdout",
     "output_type": "stream",
     "text": [
      "[11, 22, 33, 44]\n",
      "[11, 22, 44]\n",
      "----------------\n",
      "[11, 22, 33, 44]\n",
      "[11, 22, 44]\n"
     ]
    }
   ],
   "source": [
    "# deleting an element from a list by index\n",
    "list = [11,22,33,44]\n",
    "print(list)\n",
    "list.pop(2)\n",
    "print(list)\n",
    "print('-'*16)\n",
    "list = [11,22,33,44]\n",
    "print(list)\n",
    "list.remove(33)\n",
    "print(list)\n",
    "# removing an element from a list by value\n"
   ]
  },
  {
   "cell_type": "markdown",
   "metadata": {},
   "source": [
    "<img style=\"float: left;\" src=\"https://media.giphy.com/media/mx7G2l9maosWCvJFb2/giphy.gif\" width=\"200\" height=\"200\" />"
   ]
  },
  {
   "cell_type": "code",
   "execution_count": 43,
   "metadata": {},
   "outputs": [
    {
     "name": "stdout",
     "output_type": "stream",
     "text": [
      "[1, 2, 3, 4, 5, 6]\n"
     ]
    }
   ],
   "source": [
    "# adding a list to a list: extend\n",
    "list = [1,2,3]\n",
    "list2 = [4,5,6]\n",
    "list.extend(list2)\n",
    "print(list)"
   ]
  },
  {
   "cell_type": "code",
   "execution_count": 44,
   "metadata": {},
   "outputs": [
    {
     "name": "stdout",
     "output_type": "stream",
     "text": [
      "[1, 2, 3, [4, 5, 6]]\n"
     ]
    }
   ],
   "source": [
    "# adding a list to a list: append\n",
    "list = [1,2,3]\n",
    "list2 = [4,5,6]\n",
    "list.append(list2)\n",
    "print(list)\n",
    "# we get a list inside of a list"
   ]
  },
  {
   "cell_type": "code",
   "execution_count": 48,
   "metadata": {},
   "outputs": [
    {
     "name": "stdout",
     "output_type": "stream",
     "text": [
      "1 , 4\n",
      "2 , 5\n",
      "3 , 6\n"
     ]
    }
   ],
   "source": [
    "# zipping lists\n",
    "list = [1,2,3]\n",
    "list2 = [4,5,6]\n",
    "\n",
    "for x,y in zip(list,list2):\n",
    "    print(x,\",\",y)"
   ]
  },
  {
   "cell_type": "code",
   "execution_count": null,
   "metadata": {
    "collapsed": true
   },
   "outputs": [],
   "source": []
  },
  {
   "cell_type": "code",
   "execution_count": null,
   "metadata": {
    "collapsed": true
   },
   "outputs": [],
   "source": []
  },
  {
   "cell_type": "code",
   "execution_count": null,
   "metadata": {
    "collapsed": true
   },
   "outputs": [],
   "source": []
  },
  {
   "cell_type": "code",
   "execution_count": null,
   "metadata": {
    "collapsed": true
   },
   "outputs": [],
   "source": []
  },
  {
   "cell_type": "code",
   "execution_count": null,
   "metadata": {
    "collapsed": true
   },
   "outputs": [],
   "source": []
  },
  {
   "cell_type": "code",
   "execution_count": null,
   "metadata": {
    "collapsed": true
   },
   "outputs": [],
   "source": []
  },
  {
   "cell_type": "code",
   "execution_count": null,
   "metadata": {
    "collapsed": true
   },
   "outputs": [],
   "source": []
  }
 ],
 "metadata": {
  "kernelspec": {
   "display_name": "Python 3",
   "language": "python",
   "name": "python3"
  },
  "language_info": {
   "codemirror_mode": {
    "name": "ipython",
    "version": 3
   },
   "file_extension": ".py",
   "mimetype": "text/x-python",
   "name": "python",
   "nbconvert_exporter": "python",
   "pygments_lexer": "ipython3",
   "version": "3.6.1"
  }
 },
 "nbformat": 4,
 "nbformat_minor": 2
}
