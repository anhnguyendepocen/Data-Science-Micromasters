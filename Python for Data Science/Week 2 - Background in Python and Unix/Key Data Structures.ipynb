{
 "cells": [
  {
   "cell_type": "markdown",
   "metadata": {},
   "source": [
    "#### String Functions\n",
    "If you want to do something with Strings, check the document first: [link](https://docs.python.org/2/library/string.html)"
   ]
  },
  {
   "cell_type": "code",
   "execution_count": 2,
   "metadata": {},
   "outputs": [
    {
     "name": "stdout",
     "output_type": "stream",
     "text": [
      "hello\n",
      "HELLO\n"
     ]
    }
   ],
   "source": [
    "# change case\n",
    "word = 'Hello'\n",
    "print(word.lower())\n",
    "print(word.upper())"
   ]
  },
  {
   "cell_type": "code",
   "execution_count": 5,
   "metadata": {},
   "outputs": [
    {
     "name": "stdout",
     "output_type": "stream",
     "text": [
      "12\n",
      "Hi there!\n"
     ]
    }
   ],
   "source": [
    "# concatenation\n",
    "print('1' + '2')\n",
    "print('Hi' + ' there!')"
   ]
  },
  {
   "cell_type": "code",
   "execution_count": 7,
   "metadata": {},
   "outputs": [
    {
     "name": "stdout",
     "output_type": "stream",
     "text": [
      "1212\n",
      "11222\n"
     ]
    }
   ],
   "source": [
    "# replication\n",
    "print('12'*2)\n",
    "print('1'*2 + '2'*3)"
   ]
  },
  {
   "cell_type": "code",
   "execution_count": 9,
   "metadata": {},
   "outputs": [
    {
     "name": "stdout",
     "output_type": "stream",
     "text": [
      "         Extras \n",
      "\n",
      "Extras\n",
      "****10****\n",
      "10\n"
     ]
    }
   ],
   "source": [
    "# strip\n",
    "s = '         Extras \\n'\n",
    "print(s)\n",
    "print(s.strip())\n",
    "t = '****10****'\n",
    "print(t)\n",
    "print(t.strip('*'))"
   ]
  },
  {
   "cell_type": "code",
   "execution_count": 11,
   "metadata": {},
   "outputs": [
    {
     "name": "stdout",
     "output_type": "stream",
     "text": [
      "Let's split the words\n",
      "[\"Let's\", 'split', 'the', 'words']\n",
      "Jane Doe, Cars 5\n",
      "['Jane Doe', ' Cars 5']\n"
     ]
    }
   ],
   "source": [
    "# split\n",
    "s = 'Let\\'s split the words'\n",
    "print(s)\n",
    "print(s.split(' '))\n",
    "t = 'Jane Doe, Cars 5'\n",
    "print(t)\n",
    "print(t.split(','))"
   ]
  },
  {
   "cell_type": "code",
   "execution_count": 18,
   "metadata": {},
   "outputs": [
    {
     "name": "stdout",
     "output_type": "stream",
     "text": [
      "el\n",
      "o\n",
      "ell\n"
     ]
    }
   ],
   "source": [
    "# slicing\n",
    "word = 'Hello'\n",
    "print(word[1:3])\n",
    "print(word[4:7])\n",
    "print(word[-4:-1])"
   ]
  },
  {
   "cell_type": "markdown",
   "metadata": {},
   "source": [
    "<img src=\"./Files/slicing_example.png\" width = 200 align=\"left\" />"
   ]
  },
  {
   "cell_type": "code",
   "execution_count": 22,
   "metadata": {},
   "outputs": [
    {
     "name": "stdout",
     "output_type": "stream",
     "text": [
      "Hello\n",
      "False\n",
      "True\n",
      "1\n"
     ]
    }
   ],
   "source": [
    "# substring testing\n",
    "print(word)\n",
    "print('HE' in word)\n",
    "print('He' in word)\n",
    "print(word.find('el'))"
   ]
  },
  {
   "cell_type": "code",
   "execution_count": 25,
   "metadata": {},
   "outputs": [
    {
     "name": "stdout",
     "output_type": "stream",
     "text": [
      "1234\n",
      "1234.0\n"
     ]
    }
   ],
   "source": [
    "# convert to number\n",
    "st = '1234'\n",
    "print(int(st))\n",
    "print(float(st))"
   ]
  },
  {
   "cell_type": "code",
   "execution_count": null,
   "metadata": {
    "collapsed": true
   },
   "outputs": [],
   "source": [
    "# get's an error because 'Hello' isn't a number\n",
    "print(int(word))"
   ]
  },
  {
   "cell_type": "code",
   "execution_count": 27,
   "metadata": {},
   "outputs": [
    {
     "name": "stdout",
     "output_type": "stream",
     "text": [
      "We love data science.\n",
      "We love science data\n"
     ]
    }
   ],
   "source": [
    "# string formatting. {} is a placeholder used by format function\n",
    "statement = 'We love {} {}.'\n",
    "print(statement.format('data','science'))\n",
    "\n",
    "# we can specify the order of a placeholder\n",
    "statement1 = 'We love {1} {0}'\n",
    "print(statement1.format('data','science'))\n",
    "# it changed the order of the placeholders"
   ]
  },
  {
   "cell_type": "markdown",
   "metadata": {},
   "source": [
    "---"
   ]
  },
  {
   "cell_type": "markdown",
   "metadata": {},
   "source": [
    "#### Lists\n",
    "A list is a data structure in Python that is a mutable, or changeable, ordered sequence of elements. Each element or value that is inside of a list is called an item. Just as strings are defined as characters between quotes, lists are defined by having values between square brackets `[ ]`."
   ]
  },
  {
   "cell_type": "code",
   "execution_count": 31,
   "metadata": {},
   "outputs": [
    {
     "data": {
      "text/plain": [
       "22"
      ]
     },
     "execution_count": 31,
     "metadata": {},
     "output_type": "execute_result"
    }
   ],
   "source": [
    "list = [11,22,33]\n",
    "list[1]\n",
    "\n",
    "#will get an error: Error - index out of range\n",
    "#list[3]"
   ]
  },
  {
   "cell_type": "markdown",
   "metadata": {},
   "source": [
    "<img src=\"./Files/list_example.png\" width = 100 align=\"left\" />"
   ]
  },
  {
   "cell_type": "code",
   "execution_count": 30,
   "metadata": {},
   "outputs": [
    {
     "name": "stdout",
     "output_type": "stream",
     "text": [
      "11\n",
      "22\n",
      "33\n"
     ]
    }
   ],
   "source": [
    "for i in list:\n",
    "    print(i)"
   ]
  },
  {
   "cell_type": "code",
   "execution_count": 32,
   "metadata": {},
   "outputs": [
    {
     "data": {
      "text/plain": [
       "[11, 95, 33]"
      ]
     },
     "execution_count": 32,
     "metadata": {},
     "output_type": "execute_result"
    }
   ],
   "source": [
    "list[1]=95\n",
    "list"
   ]
  },
  {
   "cell_type": "markdown",
   "metadata": {},
   "source": [
    "<img src=\"./Files/list_example2.png\" width = 100 align=\"left\" />"
   ]
  },
  {
   "cell_type": "code",
   "execution_count": 35,
   "metadata": {},
   "outputs": [
    {
     "name": "stdout",
     "output_type": "stream",
     "text": [
      "[11, 22, 33, 44]\n"
     ]
    }
   ],
   "source": [
    "# appending to a list\n",
    "list = [11,22,33]\n",
    "list.append(44)\n",
    "print(list)"
   ]
  },
  {
   "cell_type": "markdown",
   "metadata": {},
   "source": [
    "<img style=\"float: left;\" src='Files/append_list_example.png' width = 120>"
   ]
  },
  {
   "cell_type": "code",
   "execution_count": 41,
   "metadata": {},
   "outputs": [
    {
     "name": "stdout",
     "output_type": "stream",
     "text": [
      "[11, 22, 33, 44]\n",
      "[11, 22, 44]\n",
      "----------------\n",
      "[11, 22, 33, 44]\n",
      "[11, 22, 44]\n"
     ]
    }
   ],
   "source": [
    "# deleting an element from a list by index\n",
    "list = [11,22,33,44]\n",
    "print(list)\n",
    "list.pop(2)\n",
    "print(list)\n",
    "print('-'*16)\n",
    "list = [11,22,33,44]\n",
    "print(list)\n",
    "list.remove(33)\n",
    "print(list)\n",
    "# removing an element from a list by value\n"
   ]
  },
  {
   "cell_type": "markdown",
   "metadata": {},
   "source": [
    "<img src=\"https://media.giphy.com/media/mx7G2l9maosWCvJFb2/giphy.gif\" width=\"150\" height=\"150\" align=\"left\" />"
   ]
  },
  {
   "cell_type": "code",
   "execution_count": 43,
   "metadata": {},
   "outputs": [
    {
     "name": "stdout",
     "output_type": "stream",
     "text": [
      "[1, 2, 3, 4, 5, 6]\n"
     ]
    }
   ],
   "source": [
    "# adding a list to a list: extend\n",
    "list = [1,2,3]\n",
    "list2 = [4,5,6]\n",
    "list.extend(list2)\n",
    "print(list)"
   ]
  },
  {
   "cell_type": "code",
   "execution_count": 44,
   "metadata": {},
   "outputs": [
    {
     "name": "stdout",
     "output_type": "stream",
     "text": [
      "[1, 2, 3, [4, 5, 6]]\n"
     ]
    }
   ],
   "source": [
    "# adding a list to a list: append\n",
    "list = [1,2,3]\n",
    "list2 = [4,5,6]\n",
    "list.append(list2)\n",
    "print(list)\n",
    "# we get a list inside of a list"
   ]
  },
  {
   "cell_type": "code",
   "execution_count": 48,
   "metadata": {},
   "outputs": [
    {
     "name": "stdout",
     "output_type": "stream",
     "text": [
      "1 , 4\n",
      "2 , 5\n",
      "3 , 6\n"
     ]
    }
   ],
   "source": [
    "# zipping lists\n",
    "list = [1,2,3]\n",
    "list2 = [4,5,6]\n",
    "\n",
    "for x,y in zip(list,list2):\n",
    "    print(x,\",\",y)"
   ]
  },
  {
   "cell_type": "markdown",
   "metadata": {},
   "source": [
    "---"
   ]
  },
  {
   "cell_type": "markdown",
   "metadata": {
    "collapsed": true
   },
   "source": [
    "#### Tuples\n",
    "A tuple is a sequence of immutable Python objects. Tuples are sequences, just like lists. The differences between tuples and lists are, the tuples cannot be changed unlike lists and tuples use parentheses, whereas lists use square brackets."
   ]
  },
  {
   "cell_type": "code",
   "execution_count": 66,
   "metadata": {},
   "outputs": [
    {
     "name": "stdout",
     "output_type": "stream",
     "text": [
      "('Honda', 'Civic', 4, 2017)\n",
      "Honda\n",
      "The len of this tuple is: 4\n",
      "----------------------------\n",
      "Honda\n",
      "Civic\n",
      "4\n",
      "2017\n"
     ]
    }
   ],
   "source": [
    "# tuples are IMMUTABLE\n",
    "tuple1 = ('Honda','Civic',4,2017)\n",
    "print(tuple1)\n",
    "print(tuple1[0])\n",
    "print('The len of this tuple is: %d' %len(tuple1))\n",
    "print('-'*28)\n",
    "for i in tuple1:\n",
    "    print(i)\n",
    "# gets an error: TypeError: 'tuple' object does not support item assignment    \n",
    "#tuple1[3]=2018"
   ]
  },
  {
   "cell_type": "markdown",
   "metadata": {},
   "source": [
    "---"
   ]
  },
  {
   "cell_type": "markdown",
   "metadata": {
    "collapsed": true
   },
   "source": [
    "#### Dictionaries\n",
    "A dictionary maps a set of objects (keys) to another set of objects (values). A Python dictionary is a mapping of unique keys to values. Dictionaries are mutable, which means they can be changed. The values that the keys point to can be any Python value. Dictionaries are unordered, so the order that the keys are added doesn't necessarily reflect what order they may be reported back."
   ]
  },
  {
   "cell_type": "code",
   "execution_count": 77,
   "metadata": {},
   "outputs": [
    {
     "name": "stdout",
     "output_type": "stream",
     "text": [
      "{('Ghostbusters', 2016): 5.4, ('Ghostbusters', 1984): 7.8}\n",
      "5.4\n",
      "2\n"
     ]
    }
   ],
   "source": [
    "# dictionary basics\n",
    "dict = {('Ghostbusters',2016): 5.4,\n",
    "        ('Ghostbusters',1984): 7.8}\n",
    "print(dict)\n",
    "print(dict[('Ghostbusters',2016)])\n",
    "print(len(dict))"
   ]
  },
  {
   "cell_type": "code",
   "execution_count": 78,
   "metadata": {},
   "outputs": [
    {
     "name": "stdout",
     "output_type": "stream",
     "text": [
      "{('Ghostbusters', 2016): 5.4, ('Ghostbusters', 1984): 7.8}\n",
      "{('Ghostbusters', 2016): 5.4, ('Ghostbusters', 1984): 7.8, ('Cars', 2016): 7.1}\n"
     ]
    }
   ],
   "source": [
    "# adding to a dictionary\n",
    "print(dict)\n",
    "dict[('Cars',2016)] = 7.1\n",
    "print(dict)"
   ]
  },
  {
   "cell_type": "code",
   "execution_count": 80,
   "metadata": {},
   "outputs": [
    {
     "data": {
      "text/plain": [
       "7.1"
      ]
     },
     "execution_count": 80,
     "metadata": {},
     "output_type": "execute_result"
    }
   ],
   "source": [
    "# getting a value from a dictionary\n",
    "x = dict[('Cars',2016)]\n",
    "x\n",
    "\n",
    "# if we ask for a value for a key not in the dictionary?\n",
    "# we get a runtime error\n",
    "# x = dict[('Toy Story',1995)]"
   ]
  },
  {
   "cell_type": "code",
   "execution_count": 86,
   "metadata": {},
   "outputs": [
    {
     "name": "stdout",
     "output_type": "stream",
     "text": [
      "7.1\n",
      "None\n",
      "----------------------------\n",
      "True\n",
      "False\n"
     ]
    }
   ],
   "source": [
    "# safer way to get from a dictionary\n",
    "## 1) get method:\n",
    "x = dict.get(('Cars',2016)) #exists\n",
    "print(x)\n",
    "x = dict.get(('Toy Story',1995)) #does not exist\n",
    "print(x)\n",
    "print('-'*28)\n",
    "## 2) in keyword\n",
    "x = ('Cars',2016) in dict # exists\n",
    "print(x)\n",
    "x = ('Toy Story',1995) in dict # does not exist\n",
    "print(x)"
   ]
  },
  {
   "cell_type": "code",
   "execution_count": 88,
   "metadata": {},
   "outputs": [
    {
     "name": "stdout",
     "output_type": "stream",
     "text": [
      "{('Cars', 2016): 7.1, ('Ghostbusters', 1984): 7.8, ('Ghostbusters', 2016): 5.4}\n",
      "{('Cars', 2016): 7.1, ('Ghostbusters', 1984): 7.8}\n"
     ]
    }
   ],
   "source": [
    "# deleting from a dictionary\n",
    "dict = {('Cars', 2016): 7.1, ('Ghostbusters', 1984): 7.8, \n",
    "        ('Ghostbusters', 2016): 5.4}\n",
    "print(dict)\n",
    "dict.pop(('Ghostbusters',2016))\n",
    "print(dict)"
   ]
  },
  {
   "cell_type": "code",
   "execution_count": 94,
   "metadata": {},
   "outputs": [
    {
     "name": "stdout",
     "output_type": "stream",
     "text": [
      "('Cars', 2016)\n",
      "('Ghostbusters', 1984)\n",
      "('Ghostbusters', 2016)\n",
      "----------------------------\n",
      "('Cars', 2016) : 7.1\n",
      "('Ghostbusters', 1984) : 7.8\n",
      "('Ghostbusters', 2016) : 5.4\n"
     ]
    }
   ],
   "source": [
    "# iterating over a dictionary\n",
    "## returns the dictionary\n",
    "dict = {('Cars', 2016): 7.1, ('Ghostbusters', 1984): 7.8, \n",
    "        ('Ghostbusters', 2016): 5.4}\n",
    "for i in dict:\n",
    "    print(i)\n",
    "print('-'*28)    \n",
    "## returns the dictionary and its key\n",
    "for key,value in dict.items():\n",
    "    print(key,\":\",value)"
   ]
  },
  {
   "cell_type": "code",
   "execution_count": 95,
   "metadata": {
    "scrolled": true
   },
   "outputs": [
    {
     "ename": "RuntimeError",
     "evalue": "dictionary changed size during iteration",
     "output_type": "error",
     "traceback": [
      "\u001b[1;31m---------------------------------------------------------------------------\u001b[0m",
      "\u001b[1;31mRuntimeError\u001b[0m                              Traceback (most recent call last)",
      "\u001b[1;32m<ipython-input-95-2686deac315f>\u001b[0m in \u001b[0;36m<module>\u001b[1;34m()\u001b[0m\n\u001b[0;32m      2\u001b[0m dict = {('Cars', 2016): 7.1, ('Ghostbusters', 1984): 7.8, \n\u001b[0;32m      3\u001b[0m         ('Ghostbusters', 2016): 5.4}\n\u001b[1;32m----> 4\u001b[1;33m \u001b[1;32mfor\u001b[0m \u001b[0mi\u001b[0m \u001b[1;32min\u001b[0m \u001b[0mdict\u001b[0m\u001b[1;33m:\u001b[0m\u001b[1;33m\u001b[0m\u001b[0m\n\u001b[0m\u001b[0;32m      5\u001b[0m     \u001b[0mdict\u001b[0m\u001b[1;33m.\u001b[0m\u001b[0mpop\u001b[0m\u001b[1;33m(\u001b[0m\u001b[0mi\u001b[0m\u001b[1;33m)\u001b[0m\u001b[1;33m\u001b[0m\u001b[0m\n",
      "\u001b[1;31mRuntimeError\u001b[0m: dictionary changed size during iteration"
     ]
    }
   ],
   "source": [
    "# be CAREFUL while iterating\n",
    "dict = {('Cars', 2016): 7.1, ('Ghostbusters', 1984): 7.8, \n",
    "        ('Ghostbusters', 2016): 5.4}\n",
    "for i in dict:\n",
    "    dict.pop(i)"
   ]
  },
  {
   "cell_type": "code",
   "execution_count": 98,
   "metadata": {},
   "outputs": [
    {
     "name": "stdout",
     "output_type": "stream",
     "text": [
      "{('Cars', 2016): 7.1, ('Ghostbusters', 1984): 7.8, ('Ghostbusters', 2016): 5.4}\n",
      "{('Cars', 2016): 7.1, ('Ghostbusters', 2016): 5.4}\n"
     ]
    }
   ],
   "source": [
    "# selective removal\n",
    "dict = {('Cars', 2016): 7.1, ('Ghostbusters', 1984): 7.8, \n",
    "        ('Ghostbusters', 2016): 5.4}\n",
    "print(dict)\n",
    "to_remove = []\n",
    "## find keys which match a criteria - remove movies year < 2000\n",
    "for i in dict:\n",
    "    if(i[1] < 2000):\n",
    "        to_remove.append(i)\n",
    "## remove those movies by iterating through the list        \n",
    "for i in to_remove:\n",
    "    dict.pop(i)\n",
    "print(dict)"
   ]
  },
  {
   "cell_type": "markdown",
   "metadata": {},
   "source": [
    "#### List and Dictionary Comprehension\n",
    "Comprehension is a way to build lists and dictionaries quickly"
   ]
  },
  {
   "cell_type": "code",
   "execution_count": 118,
   "metadata": {},
   "outputs": [
    {
     "name": "stdout",
     "output_type": "stream",
     "text": [
      "[1, 4, 9, 16, 25, 36, 49, 64, 81, 100]\n",
      "---------------------------------------\n",
      "[0, 2, 4, 6, 8, 10, 12, 14, 16, 18, 20]\n",
      "---------------------------------------\n",
      "[0, 1, 0, 1, 0, 1, 0, 1, 0, 1, 0, 1, 0]\n",
      "---------------------------------------\n",
      "[1, 4, 2, 3, 5, 1, 1, 1, 2, 1]\n"
     ]
    }
   ],
   "source": [
    "# list comprehension\n",
    "list = [i**2 for i in range(1,11)]\n",
    "print(list)\n",
    "print('-'*39)\n",
    "list = [i for i in range(0,21,2)]\n",
    "print(list)\n",
    "print('-'*39)\n",
    "list = [i%2 for i in range(0,13)]\n",
    "print(list)\n",
    "print('-'*39)\n",
    "\n",
    "import random\n",
    "list = [random.randint(0,5) for i in range(0,10)]\n",
    "print(list)"
   ]
  },
  {
   "cell_type": "code",
   "execution_count": 137,
   "metadata": {},
   "outputs": [
    {
     "name": "stdout",
     "output_type": "stream",
     "text": [
      "{1: 1, 2: 4, 3: 9, 4: 16, 5: 25, 6: 36, 7: 49, 8: 64, 9: 81}\n",
      "------------------------------------------------------------\n",
      "{65: 'A', 66: 'B', 67: 'C', 68: 'D', 69: 'E', 70: 'F', 71: 'G', 72: 'H', 73: 'I', 74: 'J', 75: 'K', 76: 'L', 77: 'M', 78: 'N', 79: 'O', 80: 'P', 81: 'Q', 82: 'R', 83: 'S', 84: 'T', 85: 'U', 86: 'V', 87: 'W', 88: 'X', 89: 'Y', 90: 'Z'}\n"
     ]
    }
   ],
   "source": [
    "#dictionary comprehension\n",
    "dict = {i : i**2 for i in range(1,10)}\n",
    "print(dict)\n",
    "print('-'*60)\n",
    "\n",
    "dict = {i : chr(i) for i in range(65,91)}\n",
    "print(dict)"
   ]
  },
  {
   "cell_type": "markdown",
   "metadata": {},
   "source": [
    "#### Sets\n",
    "It supports a number of useful math operations and because they only allow unique elements.\n",
    "* Unordered;\n",
    "* Unique elements;\n",
    "* Support useful set operations (e.g., union, intersection)"
   ]
  },
  {
   "cell_type": "code",
   "execution_count": 148,
   "metadata": {},
   "outputs": [
    {
     "name": "stdout",
     "output_type": "stream",
     "text": [
      "{'red', 'green', 'blue'}\n",
      "-----------------------------------\n",
      "{'red', 'green', 'blue', 'yellow'}\n",
      "-----------------------------------\n",
      "{'red', 'blue'}\n"
     ]
    }
   ],
   "source": [
    "# set basics: create, add and discart\n",
    "## creating\n",
    "leos_colors = set(['blue','green','red'])\n",
    "print(leos_colors)\n",
    "print('-'*35)\n",
    "## adding\n",
    "leos_colors.add('yellow')\n",
    "print(leos_colors)\n",
    "print('-'*35)\n",
    "## discard\n",
    "leos_colors = set(['blue','green','red'])\n",
    "leos_colors.discard('green')\n",
    "print(leos_colors)"
   ]
  },
  {
   "cell_type": "code",
   "execution_count": 151,
   "metadata": {},
   "outputs": [
    {
     "name": "stdout",
     "output_type": "stream",
     "text": [
      "{'red', 'green', 'yellow', 'blue'}\n",
      "-----------------------------------\n",
      "{'blue'}\n"
     ]
    }
   ],
   "source": [
    "# set operations: union and intersection\n",
    "## union\n",
    "leos_colors = set(['blue','green','red'])\n",
    "ilkays_colors = set(['blue','yellow'])\n",
    "either = ilkays_colors.union(leos_colors)\n",
    "print(either)\n",
    "print('-'*35)\n",
    "## intersection\n",
    "leos_colors = set(['blue','green','red'])\n",
    "ilkays_colors = set(['blue','yellow'])\n",
    "both = ilkays_colors.intersection(leos_colors)\n",
    "print(both)"
   ]
  },
  {
   "cell_type": "markdown",
   "metadata": {},
   "source": [
    "##### Sets - quick operations\n",
    "* Union can be done with the pipe (|) operator\n",
    "```\n",
    "set1 | set2\n",
    "```\n",
    "* Intersection can be done with the and (&) operator\n",
    "```\n",
    "set1 & set2\n",
    "```"
   ]
  },
  {
   "cell_type": "code",
   "execution_count": 153,
   "metadata": {},
   "outputs": [
    {
     "name": "stdout",
     "output_type": "stream",
     "text": [
      "Union is: {'red', 'green', 'yellow', 'blue'}\n",
      "Intersection is: {'blue'}\n"
     ]
    }
   ],
   "source": [
    "print('Union is:',leos_colors | ilkays_colors)\n",
    "print('Intersection is:',leos_colors & ilkays_colors)"
   ]
  }
 ],
 "metadata": {
  "kernelspec": {
   "display_name": "Python 3",
   "language": "python",
   "name": "python3"
  },
  "language_info": {
   "codemirror_mode": {
    "name": "ipython",
    "version": 3
   },
   "file_extension": ".py",
   "mimetype": "text/x-python",
   "name": "python",
   "nbconvert_exporter": "python",
   "pygments_lexer": "ipython3",
   "version": "3.6.1"
  }
 },
 "nbformat": 4,
 "nbformat_minor": 2
}
