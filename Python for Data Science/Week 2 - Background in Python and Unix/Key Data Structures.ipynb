{
 "cells": [
  {
   "cell_type": "markdown",
   "metadata": {},
   "source": [
    "#### String Functions\n",
    "If you want to do something with Strings, check the document first: [link](https://docs.python.org/2/library/string.html)"
   ]
  },
  {
   "cell_type": "code",
   "execution_count": 2,
   "metadata": {},
   "outputs": [
    {
     "name": "stdout",
     "output_type": "stream",
     "text": [
      "hello\n",
      "HELLO\n"
     ]
    }
   ],
   "source": [
    "# change case\n",
    "word = 'Hello'\n",
    "print(word.lower())\n",
    "print(word.upper())"
   ]
  },
  {
   "cell_type": "code",
   "execution_count": 5,
   "metadata": {},
   "outputs": [
    {
     "name": "stdout",
     "output_type": "stream",
     "text": [
      "12\n",
      "Hi there!\n"
     ]
    }
   ],
   "source": [
    "# concatenation\n",
    "print('1' + '2')\n",
    "print('Hi' + ' there!')"
   ]
  },
  {
   "cell_type": "code",
   "execution_count": 7,
   "metadata": {},
   "outputs": [
    {
     "name": "stdout",
     "output_type": "stream",
     "text": [
      "1212\n",
      "11222\n"
     ]
    }
   ],
   "source": [
    "# replication\n",
    "print('12'*2)\n",
    "print('1'*2 + '2'*3)"
   ]
  },
  {
   "cell_type": "code",
   "execution_count": 9,
   "metadata": {},
   "outputs": [
    {
     "name": "stdout",
     "output_type": "stream",
     "text": [
      "         Extras \n",
      "\n",
      "Extras\n",
      "****10****\n",
      "10\n"
     ]
    }
   ],
   "source": [
    "# strip\n",
    "s = '         Extras \\n'\n",
    "print(s)\n",
    "print(s.strip())\n",
    "t = '****10****'\n",
    "print(t)\n",
    "print(t.strip('*'))"
   ]
  },
  {
   "cell_type": "code",
   "execution_count": 11,
   "metadata": {},
   "outputs": [
    {
     "name": "stdout",
     "output_type": "stream",
     "text": [
      "Let's split the words\n",
      "[\"Let's\", 'split', 'the', 'words']\n",
      "Jane Doe, Cars 5\n",
      "['Jane Doe', ' Cars 5']\n"
     ]
    }
   ],
   "source": [
    "# split\n",
    "s = 'Let\\'s split the words'\n",
    "print(s)\n",
    "print(s.split(' '))\n",
    "t = 'Jane Doe, Cars 5'\n",
    "print(t)\n",
    "print(t.split(','))"
   ]
  },
  {
   "cell_type": "code",
   "execution_count": 18,
   "metadata": {},
   "outputs": [
    {
     "name": "stdout",
     "output_type": "stream",
     "text": [
      "el\n",
      "o\n",
      "ell\n"
     ]
    }
   ],
   "source": [
    "# slicing\n",
    "word = 'Hello'\n",
    "print(word[1:3])\n",
    "print(word[4:7])\n",
    "print(word[-4:-1])"
   ]
  },
  {
   "cell_type": "markdown",
   "metadata": {},
   "source": [
    "<img style=\"float: left;\" src='Files/slicing_example.png' width = 200>"
   ]
  },
  {
   "cell_type": "code",
   "execution_count": 22,
   "metadata": {},
   "outputs": [
    {
     "name": "stdout",
     "output_type": "stream",
     "text": [
      "Hello\n",
      "False\n",
      "True\n",
      "1\n"
     ]
    }
   ],
   "source": [
    "# substring testing\n",
    "print(word)\n",
    "print('HE' in word)\n",
    "print('He' in word)\n",
    "print(word.find('el'))"
   ]
  },
  {
   "cell_type": "code",
   "execution_count": 25,
   "metadata": {},
   "outputs": [
    {
     "name": "stdout",
     "output_type": "stream",
     "text": [
      "1234\n",
      "1234.0\n"
     ]
    }
   ],
   "source": [
    "# convert to number\n",
    "st = '1234'\n",
    "print(int(st))\n",
    "print(float(st))"
   ]
  },
  {
   "cell_type": "code",
   "execution_count": null,
   "metadata": {
    "collapsed": true
   },
   "outputs": [],
   "source": [
    "# get's an error because 'Hello' isn't a number\n",
    "print(int(word))"
   ]
  },
  {
   "cell_type": "code",
   "execution_count": 27,
   "metadata": {},
   "outputs": [
    {
     "name": "stdout",
     "output_type": "stream",
     "text": [
      "We love data science.\n",
      "We love science data\n"
     ]
    }
   ],
   "source": [
    "# string formatting. {} is a placeholder used by format function\n",
    "statement = 'We love {} {}.'\n",
    "print(statement.format('data','science'))\n",
    "\n",
    "# we can specify the order of a placeholder\n",
    "statement1 = 'We love {1} {0}'\n",
    "print(statement1.format('data','science'))\n",
    "# it changed the order of the placeholders"
   ]
  },
  {
   "cell_type": "markdown",
   "metadata": {},
   "source": [
    "#### Lists"
   ]
  },
  {
   "cell_type": "code",
   "execution_count": null,
   "metadata": {
    "collapsed": true
   },
   "outputs": [],
   "source": []
  },
  {
   "cell_type": "code",
   "execution_count": null,
   "metadata": {
    "collapsed": true
   },
   "outputs": [],
   "source": []
  },
  {
   "cell_type": "code",
   "execution_count": null,
   "metadata": {
    "collapsed": true
   },
   "outputs": [],
   "source": []
  },
  {
   "cell_type": "code",
   "execution_count": null,
   "metadata": {
    "collapsed": true
   },
   "outputs": [],
   "source": []
  }
 ],
 "metadata": {
  "kernelspec": {
   "display_name": "Python 3",
   "language": "python",
   "name": "python3"
  },
  "language_info": {
   "codemirror_mode": {
    "name": "ipython",
    "version": 3
   },
   "file_extension": ".py",
   "mimetype": "text/x-python",
   "name": "python",
   "nbconvert_exporter": "python",
   "pygments_lexer": "ipython3",
   "version": "3.6.1"
  }
 },
 "nbformat": 4,
 "nbformat_minor": 2
}
