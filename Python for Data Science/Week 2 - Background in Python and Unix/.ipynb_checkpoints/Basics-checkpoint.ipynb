{
 "cells": [
  {
   "cell_type": "markdown",
   "metadata": {},
   "source": [
    "#### Variables\n",
    "A variable is a symbolic name for (or reference to) information. We have these types: <br>\n",
    "* **Numeric:** integers, float, complex <br>\n",
    "* **Sequence:** list, tuple, range <br>\n",
    "* **Binary:** byte, bytearray <br>\n",
    "* **True/False:** bool <br>\n",
    "* **Text:** string <br>\n",
    "There are some built in methods to handle with each type of variables"
   ]
  },
  {
   "cell_type": "code",
   "execution_count": 2,
   "metadata": {},
   "outputs": [
    {
     "name": "stdout",
     "output_type": "stream",
     "text": [
      "Hello\n",
      "hello\n"
     ]
    }
   ],
   "source": [
    "x = 'HELLO'\n",
    "# Capitalize\n",
    "print(x.capitalize())\n",
    "# Lower\n",
    "print(x.lower())"
   ]
  },
  {
   "cell_type": "markdown",
   "metadata": {},
   "source": [
    "#### Loops\n",
    "A loop is a sequence of instruction s that is continually repeated until a certain condition is reached. We have:<br>\n",
    "* **For loop:** The for loop is used to repeat a section of code known number of times.<br>\n",
    "* **While Loop:** The while loop is used to repeat a section of code an unknown number of times until a specific condition is met."
   ]
  },
  {
   "cell_type": "code",
   "execution_count": 4,
   "metadata": {},
   "outputs": [
    {
     "name": "stdout",
     "output_type": "stream",
     "text": [
      "2\n",
      "5\n",
      "8\n",
      "11\n"
     ]
    }
   ],
   "source": [
    "# For\n",
    "for i in range(2,12,3):\n",
    "    print(i)"
   ]
  },
  {
   "cell_type": "code",
   "execution_count": 5,
   "metadata": {},
   "outputs": [
    {
     "name": "stdout",
     "output_type": "stream",
     "text": [
      "2\n",
      "5\n",
      "8\n",
      "11\n"
     ]
    }
   ],
   "source": [
    "# While\n",
    "i = 2\n",
    "while i < 12:\n",
    "    print(i)\n",
    "    i+=3"
   ]
  },
  {
   "cell_type": "markdown",
   "metadata": {},
   "source": [
    "#### Conditions\n",
    "Conditionals are expressions that evaluate to either true or false."
   ]
  },
  {
   "cell_type": "code",
   "execution_count": 8,
   "metadata": {},
   "outputs": [
    {
     "name": "stdout",
     "output_type": "stream",
     "text": [
      "0 is even\n",
      "1 is odd\n",
      "2 is even\n",
      "3 is odd\n",
      "4 is even\n",
      "5 is odd\n",
      "6 is even\n",
      "7 is odd\n",
      "8 is even\n",
      "9 is odd\n",
      "10 is even\n"
     ]
    }
   ],
   "source": [
    "# Print even and odd numbers\n",
    "for i in range(0,11):\n",
    "    if i % 2 == 0:\n",
    "        print (\"%d is even\" %i)\n",
    "    elif i % 2 >= 1:\n",
    "        print (\"%d is odd\" %i)\n",
    "    else:\n",
    "        print(\"Error\")"
   ]
  },
  {
   "cell_type": "markdown",
   "metadata": {
    "collapsed": true
   },
   "source": [
    "#### Functions\n",
    "Functions are \"self contained\" modules of code that accomplish a specific task. Functions usually \"take in\" data, process it, and \"return\" a result. Once a function is written, it can be used over and over and over again. Functions can be \"called\" from the inside of other functions."
   ]
  },
  {
   "cell_type": "code",
   "execution_count": 20,
   "metadata": {},
   "outputs": [
    {
     "name": "stdout",
     "output_type": "stream",
     "text": [
      "6 ,  3\n"
     ]
    }
   ],
   "source": [
    " def swap(val1, val2):\n",
    "    tmp = val1\n",
    "    val1 = val2\n",
    "    val2 = tmp\n",
    "\n",
    "x = 6\n",
    "y = 3\n",
    "swap(x, y)\n",
    "print(x,\", \",y)"
   ]
  },
  {
   "cell_type": "markdown",
   "metadata": {
    "collapsed": true
   },
   "source": [
    "#### Scope\n",
    "\n",
    "The scope of a variable refers to the places that you can see or access a variable.<br>\n",
    "\n",
    "- If you define a variable at the top level of your script or module or notebook, this is a global variable\n",
    "- Variables defined inside a function or class, are not global. Only the function or class can see the variable:\n",
    "\n",
    "Actually, a concise rule for Python Scope resolution, from Learning Python, 3rd. Ed.. (These rules are specific to variable names, not attributes. If you reference it without a period, these rules apply) <br>\n",
    "\n",
    "### LEGB Rule:\n",
    "\n",
    "* **L, Local** — Names assigned in any way within a function (def or lambda)), and not declared global in that function.\n",
    "\n",
    "* **E, Enclosing-function locals** — Name in the local scope of any and all statically enclosing functions (def or lambda), from inner to outer.\n",
    "\n",
    "* **G, Global (module)** — Names assigned at the top-level of a module file, or by executing a global statement in a def within the file.\n",
    "\n",
    "* **B, Built-in (Python)** — Names preassigned in the built-in names module : open,range,SyntaxError,..."
   ]
  },
  {
   "cell_type": "code",
   "execution_count": 21,
   "metadata": {},
   "outputs": [
    {
     "name": "stdout",
     "output_type": "stream",
     "text": [
      "0\n"
     ]
    }
   ],
   "source": [
    "# my_val is a global variable\n",
    "my_val = 0\n",
    "def my_abs(val):\n",
    "    # val is a local variable\n",
    "    if val < 0:\n",
    "        return 0-val\n",
    "    return val\n",
    "print(my_val)"
   ]
  }
 ],
 "metadata": {
  "kernelspec": {
   "display_name": "Python 3",
   "language": "python",
   "name": "python3"
  },
  "language_info": {
   "codemirror_mode": {
    "name": "ipython",
    "version": 3
   },
   "file_extension": ".py",
   "mimetype": "text/x-python",
   "name": "python",
   "nbconvert_exporter": "python",
   "pygments_lexer": "ipython3",
   "version": "3.6.1"
  }
 },
 "nbformat": 4,
 "nbformat_minor": 2
}
