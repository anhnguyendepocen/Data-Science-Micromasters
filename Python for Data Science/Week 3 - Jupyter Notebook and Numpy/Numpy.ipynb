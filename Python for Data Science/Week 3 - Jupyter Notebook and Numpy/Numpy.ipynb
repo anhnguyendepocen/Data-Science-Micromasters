{
 "cells": [
  {
   "cell_type": "markdown",
   "metadata": {},
   "source": [
    "# <span style=\"color:#4d79ff\">Getting started with ndarray</span>\n",
    "**ndarrays** are time and space-efficient multidimensional arrays at the core of numpy. Like the data structures in Week 2, let's get started by creating ndarrays using the numpy package."
   ]
  },
  {
   "attachments": {},
   "cell_type": "markdown",
   "metadata": {},
   "source": [
    "## <span style=\"color:#4d79ff\">How to create Rank 1 numpy arrays:</span>"
   ]
  },
  {
   "cell_type": "code",
   "execution_count": 1,
   "metadata": {},
   "outputs": [
    {
     "name": "stdout",
     "output_type": "stream",
     "text": [
      "<class 'numpy.ndarray'>\n"
     ]
    }
   ],
   "source": [
    "import numpy as np                 # importing numpy library\n",
    "an_array = np.array([3, 33, 333])  # creating a rank 1 array\n",
    "print(type(an_array))              # get the type of ndarray:<class 'numpy.ndarray'>"
   ]
  },
  {
   "cell_type": "code",
   "execution_count": 2,
   "metadata": {},
   "outputs": [
    {
     "name": "stdout",
     "output_type": "stream",
     "text": [
      "(3,)\n"
     ]
    }
   ],
   "source": [
    "# test the shape of this array\n",
    "print(an_array.shape)  # one dimension and three elements"
   ]
  },
  {
   "cell_type": "code",
   "execution_count": 3,
   "metadata": {},
   "outputs": [
    {
     "name": "stdout",
     "output_type": "stream",
     "text": [
      "3 33 333\n"
     ]
    }
   ],
   "source": [
    "# print each element\n",
    "print(an_array[0], an_array[1], an_array[2])"
   ]
  },
  {
   "cell_type": "code",
   "execution_count": 4,
   "metadata": {},
   "outputs": [
    {
     "name": "stdout",
     "output_type": "stream",
     "text": [
      "[888  33 333]\n"
     ]
    }
   ],
   "source": [
    "# narrays are mutable]\n",
    "an_array[0] = 888\n",
    "print(an_array)"
   ]
  },
  {
   "cell_type": "markdown",
   "metadata": {},
   "source": [
    "## <span style=\"color:#4d79ff\">How to create a Rank 2 numpy array:</span>\n",
    "A rank 2 **ndarray** is one with two dimensions. Notice the format below of [[row], [row]]. 2 dimensional arrays are great for representing matrices which are often useful in data science."
   ]
  },
  {
   "cell_type": "code",
   "execution_count": 5,
   "metadata": {},
   "outputs": [
    {
     "name": "stdout",
     "output_type": "stream",
     "text": [
      "[[11 12 13]\n",
      " [21 22 23]]\n",
      "The shape is 2 rows, 3 columns:  (2, 3)\n",
      "Accessing elements [0,0], [0,1] and [1,0] of the ndarray:  11 , 12 , 21\n"
     ]
    }
   ],
   "source": [
    "another = np.array([[11, 12, 13],[21, 22, 23]])  # create a rank 2 array\n",
    "print(another)\n",
    "print(\"The shape is 2 rows, 3 columns: \", another.shape) # rows x columns\n",
    "print(\"Accessing elements [0,0], [0,1] and [1,0] of the ndarray: \",\n",
    "      another[0,0],\",\",another[0,1],\",\",another[1,0])"
   ]
  },
  {
   "cell_type": "markdown",
   "metadata": {},
   "source": [
    "## <span style=\"color:#4d79ff\">There are many ways to create numpy arrays:</span>\n",
    "Here we create a number of different size arrays with different shapes and different pre-filled values. Numpy has a number of built in methods which\n",
    "help us quickly and easily create multidimensional arrays."
   ]
  },
  {
   "cell_type": "code",
   "execution_count": 6,
   "metadata": {},
   "outputs": [
    {
     "data": {
      "text/plain": [
       "array([[ 0.,  0.],\n",
       "       [ 0.,  0.]])"
      ]
     },
     "execution_count": 6,
     "metadata": {},
     "output_type": "execute_result"
    }
   ],
   "source": [
    "# create a 2x2 array of zeros\n",
    "ext1 = np.zeros((2,2))\n",
    "ext1"
   ]
  },
  {
   "cell_type": "code",
   "execution_count": 7,
   "metadata": {},
   "outputs": [
    {
     "data": {
      "text/plain": [
       "array([[ 1.,  0.],\n",
       "       [ 0.,  1.]])"
      ]
     },
     "execution_count": 7,
     "metadata": {},
     "output_type": "execute_result"
    }
   ],
   "source": [
    "# create a 2x2 matrix with the diagonal 1s and the others 0\n",
    "ex2 = np.eye(2,2)\n",
    "ex2"
   ]
  },
  {
   "cell_type": "code",
   "execution_count": 8,
   "metadata": {},
   "outputs": [
    {
     "data": {
      "text/plain": [
       "array([[ 9.,  9.],\n",
       "       [ 9.,  9.]])"
      ]
     },
     "execution_count": 8,
     "metadata": {},
     "output_type": "execute_result"
    }
   ],
   "source": [
    "# create a 2x2 array filled with 9.0\n",
    "ex3 = np.full((2,2),9.0)\n",
    "ex3"
   ]
  },
  {
   "cell_type": "code",
   "execution_count": 9,
   "metadata": {},
   "outputs": [
    {
     "data": {
      "text/plain": [
       "array([[ 1.,  1.]])"
      ]
     },
     "execution_count": 9,
     "metadata": {},
     "output_type": "execute_result"
    }
   ],
   "source": [
    "# create an array of ones\n",
    "ex4 = np.ones((1,2))\n",
    "ex4"
   ]
  },
  {
   "cell_type": "code",
   "execution_count": 10,
   "metadata": {},
   "outputs": [
    {
     "name": "stdout",
     "output_type": "stream",
     "text": [
      "(1, 2)\n",
      "\n",
      "1.0\n"
     ]
    }
   ],
   "source": [
    "# notice that the above ndarray is actually rank 2, it is a 2x1 array\n",
    "print(ex4.shape)\n",
    "\n",
    "# which means we need to use two indexes to access an element\n",
    "print()\n",
    "print(ex4[0,1])"
   ]
  },
  {
   "cell_type": "code",
   "execution_count": 11,
   "metadata": {},
   "outputs": [
    {
     "data": {
      "text/plain": [
       "array([[ 0.2647979 ,  0.25977268],\n",
       "       [ 0.00603639,  0.33830976]])"
      ]
     },
     "execution_count": 11,
     "metadata": {},
     "output_type": "execute_result"
    }
   ],
   "source": [
    "# create an array of random floats between 0 and 1\n",
    "ex5 = np.random.random((2,2))\n",
    "ex5"
   ]
  },
  {
   "cell_type": "code",
   "execution_count": null,
   "metadata": {
    "collapsed": true
   },
   "outputs": [],
   "source": []
  },
  {
   "cell_type": "code",
   "execution_count": null,
   "metadata": {
    "collapsed": true
   },
   "outputs": [],
   "source": []
  },
  {
   "cell_type": "code",
   "execution_count": null,
   "metadata": {
    "collapsed": true
   },
   "outputs": [],
   "source": []
  }
 ],
 "metadata": {
  "kernelspec": {
   "display_name": "Python 3",
   "language": "python",
   "name": "python3"
  },
  "language_info": {
   "codemirror_mode": {
    "name": "ipython",
    "version": 3
   },
   "file_extension": ".py",
   "mimetype": "text/x-python",
   "name": "python",
   "nbconvert_exporter": "python",
   "pygments_lexer": "ipython3",
   "version": "3.6.1"
  }
 },
 "nbformat": 4,
 "nbformat_minor": 2
}
